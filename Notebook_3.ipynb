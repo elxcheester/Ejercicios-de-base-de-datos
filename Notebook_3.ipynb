{
 "cells": [
  {
   "cell_type": "markdown",
   "metadata": {},
   "source": [
    "# Notebook 3: Operaciones de Administración de Base de Datos relacional"
   ]
  },
  {
   "cell_type": "markdown",
   "metadata": {},
   "source": [
    "En el ciclo de vida de una base de datos relacional, a menudo el administrador de la BD tiene que realizar ciertas operaciones de mantención. Mencionamos en particular:\n",
    "\n",
    "1- Realizar una copia de seguridad de los datos\n",
    "\n",
    "2- Crear usuarios y definir permisos de acceso a la BD\n",
    "\n",
    "3- Modificar la estructura de la BD\n",
    "\n",
    "4- Agregar restricciones o reglas de integridad sobre la estructura de los datos"
   ]
  },
  {
   "cell_type": "markdown",
   "metadata": {},
   "source": [
    "## Ejercicio 1: Crear una BD de prueba básica"
   ]
  },
  {
   "cell_type": "markdown",
   "metadata": {},
   "source": [
    "Para realizar los ejercicios siguientes, primero vamos a crear una BD de prueba básica, llamada \"Valdivia\". Esta base de datos está constituida por 3 tablas:\n",
    "\n",
    "- PERSONA(pk_RUT, Nombre, Edad)   (ej.: \"1, Juan, 20\")\n",
    "\n",
    "- LUGAR_DE_INTERES(pk_Lugar, Descripcion, Categoria, Latitud, Longitud)  (ej.; \"1, Mercado Fluvial, Turismo, -39.81, -73.24\")\n",
    "\n",
    "- DESPLAZARSE(#pk_RUT, fecha, Latitud, Longitud)  (ej. \"1, 30/09/2018 12:00:00, -39, -70\")"
   ]
  },
  {
   "cell_type": "markdown",
   "metadata": {},
   "source": [
    "1) Implementar la estructura de esta base de datos en MySQL indicando las claves primarias y foraneas y los tipos de datos\n",
    "\n",
    "2) Insertar al menos 5 filas en cada tabla\n",
    "\n",
    "3) ¿A qué tipo de aplicación podría servir esta base de datos?"
   ]
  },
  {
   "cell_type": "code",
   "execution_count": null,
   "metadata": {},
   "outputs": [],
   "source": []
  },
  {
   "cell_type": "markdown",
   "metadata": {},
   "source": [
    "## Ejercicio 2: Realizar una copia de seguridad de una BD y exportar datos"
   ]
  },
  {
   "cell_type": "markdown",
   "metadata": {},
   "source": [
    "<a href=\"https://dev.mysql.com/doc/refman/8.0/en/backup-and-recovery.html\"> Backup and Recovery in MySQL</a>\n",
    "\n",
    "1) ¿Por qué hacer copias de seguridad de su base de datos?\n",
    "\n",
    "2) Utilizar el comando <code>Mysqldump</code> para realizar una copia de su base de datos. ¿Cuál es el <i>output</i> de este comando?\n",
    "\n",
    "3) En algunos casos, queremos simplemente exportar datos para poder utilizarlos en otros contextos. ¿En qué consiste el formato de datos CSV? ¿Cómo exportar datos al formato CSV desde MySQL? (ver: <a href=\"http://www.mysqltutorial.org/mysql-export-table-to-csv/\">Tutorial</a>)"
   ]
  },
  {
   "cell_type": "code",
   "execution_count": null,
   "metadata": {},
   "outputs": [],
   "source": []
  },
  {
   "cell_type": "markdown",
   "metadata": {},
   "source": [
    "## Ejercicio 3: Gestionar usuarios y privilegios de lectura y escritura\n",
    "\n",
    "En la configuración por defecto de MySQL, existe un sólo usuario, llamado 'root', lo cual tiene todos los derechos. En término de seguridad es muy poco recomendable trabajar siempre con el usuario 'root' (en particular cuando se deja los passwords en el código o un archivo de parametros). \n",
    "\n",
    "1) ¿Cuáles son los tipos de privilegios en una base de datos relacional?\n",
    "\n",
    "2) Crear un nuevo usuario y darle todos los privilegios sobre la base de datos 'Valdivia'\n",
    "\n",
    "3) Crear un nuevo usuario, lo cual tendrá solamente acceso de lectura sobre la tabla Lugar_de_interes y Desplazarse"
   ]
  },
  {
   "cell_type": "code",
   "execution_count": null,
   "metadata": {},
   "outputs": [],
   "source": []
  },
  {
   "cell_type": "markdown",
   "metadata": {},
   "source": [
    "## Ejercicio 4: Modificar la estructura de una Base de Datos\n",
    "\n",
    "Supongamos que queremos modificar la estructura de la base de datos 'Valdivia'. \n",
    "\n",
    "1) Modificar la BD (sin borrarla) para agregar un campo 'nivel de estudio' en la tabla 'Persona'.\n",
    "\n",
    "2) Modificar la BD (sin borrarla) para dejar la posibilidad de tener varias categorías para describir un lugar de interés (implica crear una tabla adicional)\n",
    "\n",
    "3) Agregar una restricción para que las columnas \"Latitud\" y \"Longitud\" nuncan sean NULL"
   ]
  },
  {
   "cell_type": "code",
   "execution_count": null,
   "metadata": {},
   "outputs": [],
   "source": []
  },
  {
   "cell_type": "markdown",
   "metadata": {},
   "source": [
    "## Ejercicio 5 (opcional): Innovación para Valdivia - Smart City\n",
    "\n",
    "1) Revisar el concurso \"Desafio Smart City\": https://www.innoving.cl/smartcity\n",
    "\n",
    "2) Considerando que la empresa Telefonica del Sur podría darle acceso a ciertos datos telefónicos de la Ciudad, imaginar un escenario de innovación basado sobre una base de datos similar a aquella que creamos."
   ]
  },
  {
   "cell_type": "code",
   "execution_count": null,
   "metadata": {},
   "outputs": [],
   "source": []
  }
 ],
 "metadata": {
  "kernelspec": {
   "display_name": "Python 3",
   "language": "python",
   "name": "python3"
  },
  "language_info": {
   "codemirror_mode": {
    "name": "ipython",
    "version": 3
   },
   "file_extension": ".py",
   "mimetype": "text/x-python",
   "name": "python",
   "nbconvert_exporter": "python",
   "pygments_lexer": "ipython3",
   "version": "3.6.6"
  }
 },
 "nbformat": 4,
 "nbformat_minor": 2
}
